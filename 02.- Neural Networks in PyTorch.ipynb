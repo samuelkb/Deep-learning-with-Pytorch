{
 "cells": [
  {
   "cell_type": "markdown",
   "metadata": {},
   "source": [
    "# Neural networks with PyTorch\n",
    "\n",
    "Deep learning networks tend to be massive with dozens or hundreds of layers, that's where the term \"deep\" comes from. You can build one of these deep networks using only weight matrices as we did in the previous notebook, but in general it's very cumbersome and difficult to implement. PyTorch has a nice module `nn` that provides a nice way to efficiently build large neural networks."
   ]
  },
  {
   "cell_type": "code",
   "execution_count": 3,
   "metadata": {},
   "outputs": [],
   "source": [
    "# Import necessary packages\n",
    "\n",
    "%matplotlib inline\n",
    "%config InlineBackend.figure_format = 'retina'\n",
    "\n",
    "import numpy as np\n",
    "import torch\n",
    "\n",
    "import helper\n",
    "\n",
    "import matplotlib.pyplot as plt"
   ]
  },
  {
   "cell_type": "markdown",
   "metadata": {},
   "source": [
    "\n",
    "Now we're going to build a larger network that can solve a (formerly) difficult problem, identifying text in an image. Here we'll use the MNIST dataset which consists of greyscale handwritten digits. Each image is 28x28 pixels, you can see a sample below\n",
    "\n",
    "<img src='assets/mnist.png'>\n",
    "\n",
    "Our goal is to build a neural network that can take one of these images and predict the digit in the image.\n",
    "\n",
    "First up, we need to get our dataset. This is provided through the `torchvision` package. This package that sits alongside PyTorch, provides a lot of nice utilities like datasets and models for doing coumputer vision problems. The code below will download the MNIST dataset, then create training and test datasets for us. Don't worry too much about the details here, you'll learn more about this later."
   ]
  },
  {
   "cell_type": "code",
   "execution_count": 4,
   "metadata": {},
   "outputs": [
    {
     "name": "stdout",
     "output_type": "stream",
     "text": [
      "Downloading http://yann.lecun.com/exdb/mnist/train-images-idx3-ubyte.gz to /Users/mb78200/.pytorch/MNIST_data/MNIST/raw/train-images-idx3-ubyte.gz\n"
     ]
    },
    {
     "name": "stderr",
     "output_type": "stream",
     "text": [
      "100.1%"
     ]
    },
    {
     "name": "stdout",
     "output_type": "stream",
     "text": [
      "Extracting /Users/mb78200/.pytorch/MNIST_data/MNIST/raw/train-images-idx3-ubyte.gz to /Users/mb78200/.pytorch/MNIST_data/MNIST/raw\n",
      "Downloading http://yann.lecun.com/exdb/mnist/train-labels-idx1-ubyte.gz to /Users/mb78200/.pytorch/MNIST_data/MNIST/raw/train-labels-idx1-ubyte.gz\n"
     ]
    },
    {
     "name": "stderr",
     "output_type": "stream",
     "text": [
      "113.5%"
     ]
    },
    {
     "name": "stdout",
     "output_type": "stream",
     "text": [
      "Extracting /Users/mb78200/.pytorch/MNIST_data/MNIST/raw/train-labels-idx1-ubyte.gz to /Users/mb78200/.pytorch/MNIST_data/MNIST/raw\n",
      "Downloading http://yann.lecun.com/exdb/mnist/t10k-images-idx3-ubyte.gz to /Users/mb78200/.pytorch/MNIST_data/MNIST/raw/t10k-images-idx3-ubyte.gz\n"
     ]
    },
    {
     "name": "stderr",
     "output_type": "stream",
     "text": [
      "100.4%"
     ]
    },
    {
     "name": "stdout",
     "output_type": "stream",
     "text": [
      "Extracting /Users/mb78200/.pytorch/MNIST_data/MNIST/raw/t10k-images-idx3-ubyte.gz to /Users/mb78200/.pytorch/MNIST_data/MNIST/raw\n",
      "Downloading http://yann.lecun.com/exdb/mnist/t10k-labels-idx1-ubyte.gz to /Users/mb78200/.pytorch/MNIST_data/MNIST/raw/t10k-labels-idx1-ubyte.gz\n"
     ]
    },
    {
     "name": "stderr",
     "output_type": "stream",
     "text": [
      "180.4%/Users/mb78200/opt/anaconda3/envs/deep-learning-with-Pytorch/lib/python3.8/site-packages/torchvision/datasets/mnist.py:480: UserWarning: The given NumPy array is not writeable, and PyTorch does not support non-writeable tensors. This means you can write to the underlying (supposedly non-writeable) NumPy array using the tensor. You may want to copy the array to protect its data or make it writeable before converting it to a tensor. This type of warning will be suppressed for the rest of this program. (Triggered internally at  /Users/distiller/project/conda/conda-bld/pytorch_1603740477510/work/torch/csrc/utils/tensor_numpy.cpp:141.)\n",
      "  return torch.from_numpy(parsed.astype(m[2], copy=False)).view(*s)\n"
     ]
    },
    {
     "name": "stdout",
     "output_type": "stream",
     "text": [
      "Extracting /Users/mb78200/.pytorch/MNIST_data/MNIST/raw/t10k-labels-idx1-ubyte.gz to /Users/mb78200/.pytorch/MNIST_data/MNIST/raw\n",
      "Processing...\n",
      "Done!\n"
     ]
    }
   ],
   "source": [
    "### Run this cell\n",
    "\n",
    "from torchvision import datasets, transforms\n",
    "\n",
    "# Define a transform to normalize the data\n",
    "transform = transforms.Compose([transforms.ToTensor(),\n",
    "                              transforms.Normalize((0.5,), (0.5,)),\n",
    "                              ])\n",
    "\n",
    "# Download and load the training data\n",
    "trainset = datasets.MNIST('~/.pytorch/MNIST_data/', download=True, train=True, transform=transform)\n",
    "trainloader = torch.utils.data.DataLoader(trainset, batch_size=64, shuffle=True)"
   ]
  },
  {
   "cell_type": "markdown",
   "metadata": {},
   "source": [
    "We have the training data loaded into `trainloader` and we make that an iterator with `iter(trainloader)`. Later, we'll use this to loop through the dataset for training, like\n",
    "\n",
    "```python\n",
    "for image, label in trainloader:\n",
    "    ## do things with images and labels\n",
    "```\n",
    "\n",
    "You'll notice I created the `trainloader` with a batch size of 64, and `shuffle=True`. The batch size is the number of images we get in one iteration from the data loader and pass through our network, often called a *batch*. And `shuffle=True` tells it to shuffle the dataset every time we start going through the data loader again. But here I'm just grabbing the first batch so we can check out the data. We can see below that `images` is just a tensor with size `(64, 1, 28, 28)`. So, 64 images per batch, 1 color channel(grayscale), and 28x28 images."
   ]
  },
  {
   "cell_type": "code",
   "execution_count": 5,
   "metadata": {},
   "outputs": [
    {
     "name": "stdout",
     "output_type": "stream",
     "text": [
      "<class 'torch.Tensor'>\n",
      "torch.Size([64, 1, 28, 28])\n",
      "torch.Size([64])\n"
     ]
    }
   ],
   "source": [
    "dataiter = iter(trainloader)\n",
    "images, labels = dataiter.next()\n",
    "print(type(images))\n",
    "print(images.shape)\n",
    "print(labels.shape)"
   ]
  },
  {
   "cell_type": "markdown",
   "metadata": {},
   "source": [
    "This is what one of the images looks like. "
   ]
  },
  {
   "cell_type": "code",
   "execution_count": 10,
   "metadata": {},
   "outputs": [
    {
     "data": {
      "image/png": "[encoded data removed]",
      "text/plain": [
       "<Figure size 432x288 with 1 Axes>"
      ]
     },
     "metadata": {
      "image/png": {
       "height": 248,
       "width": 251
      },
      "needs_background": "light"
     },
     "output_type": "display_data"
    }
   ],
   "source": [
    "plt.imshow(images[1].numpy().squeeze(), cmap='Greys_r');"
   ]
  },
  {
   "cell_type": "markdown",
   "metadata": {},
   "source": [
    "First, let's try to build a simple network for this dataset using weight matrices and matrix multiplications. Then, we'll see how to do it using PyTorch's `nn` module which provides a much more convenient and powerful method for defining network architectures.\n",
    "\n",
    "The networks you've seen so far are called *fully-connected* or *dense* networks. Each unit in one layer is connected to each unit in the next layer. In fully-connected networks, the input to each layer must be a one-dimensional vector (which can be stacked into a 2D tensor as a batch of multiple examples). However, our images are 28x28 2D tensors, so we need to convert them into 1D vectors. Thinking about sizes, we need to convert the batch of images with shape `(64, 1, 28, 28)` to a have a shape of `(64, 784)`, 784 is 28 times 28. This is typically called *flattening*, we flattened the 2D images into 1D vectors.\n",
    "\n",
    "Previously you built a network with one output unit. Here we need 10 output units, one for each digit. We want our network to predict the digit shown in an image, so what we'll do is calculate probabilities that the image is of any one digit or class. This ends up being a discrete probability distribution over the classes (digits) that tells us the most likely class for the image. That means we need 10 output units for the 10 classes (digits). We'll see how to convert the network output into a probability distribution next.\n",
    "\n",
    "> **Exercise:** Flatten the batch of images `images`. Then build a multi-layer network with 784 input units, 256 hidden units, and 10 output units using random tensors for the weights and biases. For now, use a sigmoid activation for the hidden layer. Leave the output layer without an activation, we'll add one that gives us a probability distribution next."
   ]
  },
  {
   "cell_type": "code",
   "execution_count": 30,
   "metadata": {},
   "outputs": [
    {
     "name": "stdout",
     "output_type": "stream",
     "text": [
      "torch.Size([64, 10])\n",
      "tensor([[-3.8897e-01,  2.7071e+00, -1.2333e+01, -2.2744e+00,  8.9074e+00,\n",
      "         -4.5831e+00, -2.6408e+00,  2.7109e+00,  2.3662e+01, -1.7001e+01],\n",
      "        [ 3.8458e+00,  5.0220e+00, -8.8516e+00,  4.1137e+00,  4.6083e+00,\n",
      "         -7.0056e+00,  2.0753e+00, -7.1877e+00,  1.7303e+01, -1.7508e+01],\n",
      "        [ 8.8970e-01,  3.1021e-01, -2.0789e+01, -3.9725e-01, -5.1911e+00,\n",
      "         -1.7195e+01,  1.5783e-01, -1.5497e+01,  7.0371e+00, -6.1950e+00],\n",
      "        [ 3.6996e+00,  3.8776e+00, -1.7722e+01, -3.0454e+00,  8.2509e+00,\n",
      "         -1.5051e+01, -1.5481e+00, -1.0862e+00,  1.2673e+01, -1.0509e+01],\n",
      "        [-3.8961e-01,  2.5736e+00, -1.0613e+01,  2.3435e+00,  1.8043e+01,\n",
      "         -4.0273e+00, -3.8589e-01, -2.1096e+00,  1.7829e+01, -1.7764e+01],\n",
      "        [-3.5985e+00,  7.7130e+00, -8.5898e+00, -4.7198e+00,  1.0738e+01,\n",
      "         -4.4990e+00, -6.9776e+00,  5.7745e+00,  1.1277e+01, -7.2234e+00],\n",
      "        [ 6.1091e-01,  4.4188e-01, -5.4606e+00,  4.5126e+00,  8.7968e+00,\n",
      "         -2.5218e+00, -1.3296e+01, -6.9129e+00,  1.3427e+01, -1.5368e+01],\n",
      "        [ 1.7325e+00,  8.7032e+00, -3.7265e+00,  2.4546e+00,  5.1969e+00,\n",
      "         -1.4258e+01, -2.9210e+00, -1.2975e+01,  7.5008e+00, -7.0210e+00],\n",
      "        [-1.6824e+00,  2.5768e+00, -1.2764e+01, -1.5486e-02, -1.8141e+00,\n",
      "         -1.2285e+01, -5.4467e+00, -1.2655e+01,  4.9087e+00, -1.3080e+01],\n",
      "        [ 3.1257e+00,  4.6708e+00, -4.9271e+00,  9.2652e+00, -3.1095e+00,\n",
      "         -6.7256e+00,  6.1952e-01, -1.4873e+01,  1.5268e+01, -1.3152e+01],\n",
      "        [-4.2134e-01, -7.1881e+00, -9.3979e+00, -3.0441e+00, -3.1714e+00,\n",
      "         -1.1843e+01, -1.4298e+01, -1.1130e+01,  2.5759e+00, -9.3745e+00],\n",
      "        [ 3.3090e+00,  2.4137e+00, -1.7238e+01,  5.8852e+00,  1.0268e+01,\n",
      "          3.6442e+00,  3.4011e+00, -4.6787e+00,  1.3544e+01, -9.6476e+00],\n",
      "        [ 1.0602e+00,  2.3338e+00, -7.1524e+00, -6.9821e+00,  4.4092e+00,\n",
      "         -9.1233e+00, -8.3670e+00, -4.5436e+00,  1.3612e+01, -9.4695e+00],\n",
      "        [-4.2535e+00,  1.1544e+01, -1.3622e+01, -2.4282e+00,  7.4073e+00,\n",
      "         -8.2157e+00,  1.0919e+00, -1.0474e+01, -2.0485e+00, -1.4301e+01],\n",
      "        [ 3.1551e+00,  5.5991e+00, -9.7338e+00,  8.0214e+00,  8.2341e-01,\n",
      "         -1.0935e+01,  7.8822e-01, -8.9548e+00,  1.7365e+01, -1.5625e+01],\n",
      "        [-4.7723e+00, -5.5847e+00, -1.3358e+01, -2.4800e+00, -2.0213e-01,\n",
      "         -2.4843e+00,  2.8640e+00, -1.0122e+01,  1.3406e+01, -4.5971e+00],\n",
      "        [ 1.4241e+00, -6.7164e-01, -8.0479e+00,  1.2536e+00,  8.4616e+00,\n",
      "          3.9302e-01,  1.6608e+00, -1.2119e+01,  1.2933e+01, -9.6561e+00],\n",
      "        [-8.7326e-01, -1.0452e-01, -1.6152e+01, -1.0234e+00,  9.1478e+00,\n",
      "         -1.5966e+01,  4.7080e-01,  2.6205e+00,  1.4907e+01, -1.2163e+01],\n",
      "        [ 9.0606e+00,  9.1180e+00, -1.1617e+01,  9.4044e+00,  6.1109e+00,\n",
      "          2.6752e+00,  3.7024e-02, -4.8125e+00,  9.6058e+00, -1.1945e+01],\n",
      "        [ 7.0901e+00, -4.7826e-01, -5.7523e+00,  7.8597e+00,  9.5399e+00,\n",
      "          4.8441e+00, -2.8665e+00, -3.3277e+00,  2.2895e+01, -1.2979e+01],\n",
      "        [ 8.5102e+00,  9.2089e+00, -6.9243e+00,  7.2564e+00,  1.2293e+01,\n",
      "         -5.3230e+00,  2.5780e+00, -4.6272e+00,  1.4712e+01, -1.2907e+01],\n",
      "        [ 7.6539e+00,  1.0468e+00, -9.2065e+00,  3.9282e+00,  1.0790e+01,\n",
      "          6.4600e+00, -3.9667e+00, -2.0173e+00,  1.1370e+01, -1.9706e+01],\n",
      "        [-5.5491e-01,  4.4850e+00, -1.5273e+01,  1.8110e+00,  1.0571e+00,\n",
      "         -1.7676e+01, -5.5783e+00, -7.1664e+00,  1.6549e+01, -1.2499e+01],\n",
      "        [ 1.2516e+00, -9.4960e-01, -1.1121e+01, -2.2686e+00,  9.2899e+00,\n",
      "         -6.9400e+00,  2.5645e+00, -1.0321e+01,  1.1042e+01, -7.3771e+00],\n",
      "        [-5.2124e+00,  1.1372e+01, -8.9439e+00, -6.3916e+00, -1.5703e+00,\n",
      "         -3.3520e+00, -7.1793e+00, -5.3817e+00,  2.5303e+00, -8.7156e+00],\n",
      "        [-2.3091e+00,  2.0697e+00, -5.8136e+00,  2.5859e+00,  1.0762e+01,\n",
      "         -7.6606e+00, -6.2186e+00, -1.0374e+00,  2.1050e+01, -1.1153e+01],\n",
      "        [ 2.8099e+00,  4.3032e+00, -1.7729e+01, -1.5522e+00,  4.7825e+00,\n",
      "         -7.3190e+00,  3.0421e+00, -8.3207e-01,  1.5917e+01, -1.5392e+00],\n",
      "        [-3.3475e-01,  4.3361e+00, -2.1095e+01,  4.8925e+00, -5.9859e+00,\n",
      "         -9.9778e+00, -3.8444e+00, -3.4758e+00,  9.3424e+00, -1.4994e+01],\n",
      "        [-2.4179e+00, -3.4776e+00, -1.8134e+01,  6.6319e+00,  1.0650e+01,\n",
      "         -7.1785e+00, -3.9270e+00, -5.6693e+00,  2.1227e+01, -8.7871e+00],\n",
      "        [ 2.3506e+00,  2.0183e+00, -1.1547e+01,  1.3417e+01,  1.0622e+01,\n",
      "          3.6632e+00, -7.4910e+00, -6.4142e+00,  1.6154e+01, -1.4105e+01],\n",
      "        [ 2.1616e+00,  8.1884e+00, -4.1794e+00,  5.4078e+00,  7.1402e+00,\n",
      "         -1.4042e+01, -3.9700e+00, -1.0102e+01,  1.0939e+01, -1.1355e+01],\n",
      "        [ 2.8172e+00,  4.7659e+00, -6.7685e+00,  9.5684e-01, -1.9302e+00,\n",
      "         -1.8303e+00,  1.2082e+00, -4.6915e+00,  1.0044e+01, -3.5811e+00],\n",
      "        [-9.2231e-01,  1.3389e+01, -6.2424e+00, -7.1508e+00,  4.9573e+00,\n",
      "         -6.0502e+00, -2.2578e+00, -9.3480e+00,  4.7570e+00, -4.9118e+00],\n",
      "        [ 5.5275e+00,  2.5764e+00, -1.1386e+00, -1.5918e+00,  3.7972e+00,\n",
      "         -7.3577e+00,  1.0584e+01, -1.6007e+01,  1.5752e+01, -1.4544e+01],\n",
      "        [-3.3664e+00,  5.4400e+00, -1.1363e+01,  9.3936e+00, -2.8992e+00,\n",
      "         -1.3500e+01,  1.9383e+00, -2.4437e+00,  1.1721e+01, -1.0330e+01],\n",
      "        [ 6.4822e+00, -3.9026e+00, -1.1203e+01, -5.9876e+00,  9.0699e+00,\n",
      "         -1.3600e+01,  2.8218e+00, -4.8635e+00,  1.3280e+01, -4.0057e+00],\n",
      "        [ 2.5825e+00,  3.3711e+00, -1.4243e+01,  1.6554e+00,  6.7549e+00,\n",
      "         -4.7156e+00, -2.5743e+00, -1.5240e+01,  1.9078e+01, -1.9342e+01],\n",
      "        [-2.1498e+00, -1.7672e+00, -8.4873e+00, -5.3895e+00,  2.4090e+00,\n",
      "         -2.9796e+00, -9.6806e-01, -1.1663e+00,  9.3258e+00, -2.4241e+00],\n",
      "        [ 4.5960e+00, -7.7264e+00, -6.8080e+00,  2.7506e+00,  9.7278e+00,\n",
      "         -7.0446e-01,  2.4193e+00, -2.9534e+00,  1.4036e+01, -9.3436e+00],\n",
      "        [ 1.3361e+01,  3.4213e+00, -1.6514e+01,  8.4361e+00,  8.1015e+00,\n",
      "          9.1149e+00, -4.5489e+00, -8.2723e+00,  1.2808e+01, -1.0981e+01],\n",
      "        [-3.6925e+00,  1.2764e+01, -7.3143e+00, -3.2358e+00,  2.0695e+00,\n",
      "         -3.7320e+00,  3.2103e-01, -1.5750e+01,  8.0870e+00, -8.7594e+00],\n",
      "        [-1.2805e+01,  9.9941e+00, -1.0945e+01, -4.6997e+00,  8.4977e+00,\n",
      "         -6.3256e+00,  8.2838e+00, -5.2949e+00,  1.3430e+01, -9.4151e+00],\n",
      "        [ 8.5906e+00,  8.2697e+00, -8.7654e-01,  4.6798e+00,  8.8985e+00,\n",
      "         -4.7756e+00, -9.8527e+00, -1.0014e+01,  1.7371e+01, -1.2588e+01],\n",
      "        [ 5.0420e+00,  4.0282e+00, -8.3647e+00,  1.0675e+00,  2.7460e+00,\n",
      "         -2.1729e-01, -1.6690e+00, -4.4124e+00,  1.9340e+01, -3.7863e+00],\n",
      "        [ 9.2594e+00,  4.8753e-01, -1.2084e+01,  4.7927e+00,  1.8285e+01,\n",
      "          2.2846e+00,  2.9387e-02, -4.3139e+00,  1.9792e+01, -1.7057e+01],\n",
      "        [-2.0038e+00,  2.2287e+00, -1.2345e+01,  2.6299e+00,  5.5134e+00,\n",
      "         -7.6098e-01,  1.9118e+00, -8.7325e+00,  1.1332e+01, -1.2064e+01],\n",
      "        [-1.4760e+00,  4.5268e+00, -1.6847e+01, -2.7173e+00,  8.8355e+00,\n",
      "         -3.5416e+00, -1.6331e+01, -7.0645e+00,  1.4625e+01, -8.9660e+00],\n",
      "        [ 3.1440e+00,  3.5826e+00, -1.1836e+01, -1.4226e+00,  2.2606e+00,\n",
      "         -7.1838e+00, -8.7061e+00, -5.7380e+00,  1.3774e+01, -6.9777e+00],\n",
      "        [ 1.1370e+00,  9.9249e+00, -1.4062e+01, -6.8207e+00,  4.1446e+00,\n",
      "         -1.1616e+01,  6.3369e+00, -7.0200e+00,  5.3109e+00, -1.3368e+01],\n",
      "        [ 4.1648e+00, -3.1656e+00, -1.2169e+01,  4.2857e+00,  5.5045e+00,\n",
      "         -8.6001e+00, -2.1839e+00, -1.0868e+01,  1.0331e+01, -4.6543e+00],\n",
      "        [ 4.0818e+00,  3.4061e+00, -1.0608e+01, -2.2536e+00,  1.5162e+01,\n",
      "         -1.4487e+01,  3.5026e+00, -1.6556e+01,  2.0984e+01, -2.7070e+00],\n",
      "        [ 2.4215e+00,  4.1811e+00, -1.4557e+01, -4.5003e+00,  2.6735e+00,\n",
      "         -8.4833e+00, -4.4075e+00, -6.4632e+00,  1.1430e+01, -3.5746e+00],\n",
      "        [-1.7402e+00,  2.9208e+00, -1.3505e+01,  1.7291e-01,  7.2984e+00,\n",
      "         -2.5306e+01, -1.3905e+00, -1.2972e+01,  1.3654e+01, -1.6270e+01],\n",
      "        [-4.2704e+00,  1.3369e+00, -1.1027e+01, -3.0775e+00,  2.2210e+00,\n",
      "         -6.7197e+00, -2.1730e+00, -1.0692e+01,  1.6427e+01, -6.4799e+00],\n",
      "        [-9.6763e+00,  2.0113e+00, -1.0698e+01, -2.2867e+00,  8.6591e+00,\n",
      "         -3.3682e+00, -4.8317e+00, -3.9746e+00,  1.3109e+01, -1.5222e+01],\n",
      "        [-4.5114e+00,  1.0733e+01, -6.4388e+00, -4.4186e+00,  1.1774e+01,\n",
      "         -6.9987e-01,  7.3234e-01, -7.6077e-01,  4.9137e+00, -1.3413e+01],\n",
      "        [-4.0696e-01,  3.8973e+00, -1.0104e+01, -5.5204e-01, -3.9693e+00,\n",
      "          2.5029e+00,  3.0422e+00, -4.4424e+00,  1.3427e+01, -5.7093e+00],\n",
      "        [ 1.8532e+00,  4.7422e+00, -1.6017e+01,  4.5983e+00,  3.6833e-01,\n",
      "         -3.1170e+00, -2.2900e+00, -2.7206e+00,  6.4917e+00, -1.3451e+01],\n",
      "        [ 6.4458e+00,  4.6079e+00, -1.4617e+01, -1.8377e+00,  1.2488e+01,\n",
      "         -8.0521e+00, -1.2281e+01, -9.7908e+00,  1.8055e+01, -1.6138e+01],\n",
      "        [ 9.6081e-01,  6.7337e+00, -9.0366e+00, -1.1484e+00,  1.5419e+01,\n",
      "         -9.4313e+00,  8.3896e+00, -5.5416e+00,  2.4406e+01, -3.2470e+00],\n",
      "        [-3.9829e+00,  7.9939e-01, -2.2943e+01,  4.2793e+00,  1.9349e+01,\n",
      "         -5.4094e+00, -3.8470e+00, -1.1599e+01,  2.3904e+01, -7.5018e+00],\n",
      "        [ 2.1461e+00,  8.9930e+00, -6.4889e+00, -5.9666e+00,  6.9341e+00,\n",
      "         -1.3397e+01,  1.2595e+00, -1.1312e+01,  1.6035e+01, -3.3875e+00],\n",
      "        [ 6.7912e+00,  9.2178e+00, -1.2657e+01,  4.7692e-01,  1.4292e+01,\n",
      "          1.5910e-01, -6.1729e+00, -3.2886e+00,  5.9802e+00, -1.0310e+01],\n",
      "        [ 3.3849e+00, -1.5730e+00, -7.1472e+00,  4.5604e+00,  2.5021e+00,\n",
      "          9.4404e-01, -1.2830e+01, -2.6810e+00,  1.8222e+01, -1.1222e+01]])\n"
     ]
    }
   ],
   "source": [
    "## Your solution\n",
    "\n",
    "def activation(x):\n",
    "    \"\"\" Sigmoid activation function \n",
    "    \n",
    "        Arguments\n",
    "        ---------\n",
    "        x: torch.Tensor\n",
    "    \"\"\"\n",
    "    return 1/(1+torch.exp(-x))\n",
    "\n",
    "# Features \n",
    "features = torch.flatten(images, start_dim=1)\n",
    "\n",
    "# Flatten the input images also can be done:\n",
    "# inputs = images.view(images.shape[0], -1)\n",
    "# -1 is just a kind of quicj way to flatten a tensor without having to know what the second dimension used to be.\n",
    "\n",
    "# Define the size of each layer in our network\n",
    "n_input =  features.shape[1]    # Number of input units\n",
    "n_hidden = 256                    # Number of hidden units \n",
    "n_output = 10                    # Number of output units\n",
    "\n",
    "# Weights for inputs to hidden layer\n",
    "W1 = torch.randn(n_input, n_hidden)\n",
    "# Weights for hidden layer to output layer\n",
    "W2 = torch.randn(n_hidden, n_output)\n",
    "\n",
    "# and bias terms for hidden and output layers\n",
    "B1 = torch.randn((1, n_hidden))\n",
    "B2 = torch.randn((1, n_output))\n",
    "\n",
    "hidden_layer = activation(torch.mm(features, W1) + B1)\n",
    "\n",
    "out = torch.mm(hidden_layer, W2) + B2 # output of your network, should have shape (64,10)\n",
    "print(out.shape)\n",
    "print(out)"
   ]
  },
  {
   "cell_type": "markdown",
   "metadata": {},
   "source": [
    "Now we have 10 outputs for our network. We want to pass in an image to our network and get out a probability distribution over the classes that tells us the likely class(es) the image belongs to. Something that looks like this:\n",
    "<img src='assets/image_distribution.png' width=500px>\n",
    "\n",
    "Here we see that the probability for each class is roughly the same. This is representing an untrained network, it hasn't seen any data yet so it just returns a uniform distribution with equal probabilities for each class.\n",
    "\n",
    "To calculate this probability distribution, we often use the [**softmax** function](https://en.wikipedia.org/wiki/Softmax_function). Mathematically this looks like\n",
    "\n",
    "$$\n",
    "\\Large \\sigma(x_i) = \\cfrac{e^{x_i}}{\\sum_k^K{e^{x_k}}}\n",
    "$$\n",
    "\n",
    "What this does is squish each input $x_i$ between 0 and 1 and normalizes the values to give you a proper probability distribution where the probabilites sum up to one.\n",
    "\n",
    "> **Exercise:** Implement a function `softmax` that performs the softmax calculation and returns probability distributions for each example in the batch. Note that you'll need to pay attention to the shapes when doing this. If you have a tensor `a` with shape `(64, 10)` and a tensor `b` with shape `(64,)`, doing `a/b` will give you an error because PyTorch will try to do the division across the columns (called broadcasting) but you'll get a size mismatch. The way to think about this is for each of the 64 examples, you only want to divide by one value, the sum in the denominator. So you need `b` to have a shape of `(64, 1)`. This way PyTorch will divide the 10 values in each row of `a` by the one value in each row of `b`. Pay attention to how you take the sum as well. You'll need to define the `dim` keyword in `torch.sum`. Setting `dim=0` takes the sum across the rows while `dim=1` takes the sum across the columns."
   ]
  },
  {
   "cell_type": "code",
   "execution_count": 36,
   "metadata": {},
   "outputs": [
    {
     "name": "stdout",
     "output_type": "stream",
     "text": [
      "torch.Size([64, 10])\n",
      "tensor([1.0000, 1.0000, 1.0000, 1.0000, 1.0000, 1.0000, 1.0000, 1.0000, 1.0000,\n",
      "        1.0000, 1.0000, 1.0000, 1.0000, 1.0000, 1.0000, 1.0000, 1.0000, 1.0000,\n",
      "        1.0000, 1.0000, 1.0000, 1.0000, 1.0000, 1.0000, 1.0000, 1.0000, 1.0000,\n",
      "        1.0000, 1.0000, 1.0000, 1.0000, 1.0000, 1.0000, 1.0000, 1.0000, 1.0000,\n",
      "        1.0000, 1.0000, 1.0000, 1.0000, 1.0000, 1.0000, 1.0000, 1.0000, 1.0000,\n",
      "        1.0000, 1.0000, 1.0000, 1.0000, 1.0000, 1.0000, 1.0000, 1.0000, 1.0000,\n",
      "        1.0000, 1.0000, 1.0000, 1.0000, 1.0000, 1.0000, 1.0000, 1.0000, 1.0000,\n",
      "        1.0000])\n"
     ]
    }
   ],
   "source": [
    "def softmax(x):\n",
    "    ## TODO: Implement the softmax function here\n",
    "    summed = torch.sum(torch.exp(x), dim=1).view(-1, 1)\n",
    "    #dim = 1 because we want to sum across rows\n",
    "    return torch.exp(x) / summed\n",
    "\n",
    "# Here, out should be the output of the network in the previous excercise with shape (64,10)\n",
    "probabilities = softmax(out)\n",
    "\n",
    "# Does it have the right shape? Should be (64, 10)\n",
    "print(probabilities.shape)\n",
    "# Does it sum to 1?\n",
    "print(probabilities.sum(dim=1))"
   ]
  },
  {
   "cell_type": "markdown",
   "metadata": {},
   "source": [
    "## Building networks with PyTorch\n",
    "\n",
    "PyTorch provides a module `nn` that makes building networks much simpler. Here I'll show you how to build the same one as above with 784 inputs, 256 hidden units, 10 output units and a softmax output. Actually that it is a lot of way simpler and more powerful. You will be able to build larger neural networks using the same framework. \n",
    "\n",
    "We are going to create a class, subclass it from `nn` module, and then, in the init method, we will need to call it super and run the init method of nn module. You need to do this because then PyTorch will know to register all the different layers and operations that you are going to be putting into this network. Whitout that, you won't be able to track the things that you are adding to your network, and it just won't work. "
   ]
  },
  {
   "cell_type": "code",
   "execution_count": 37,
   "metadata": {},
   "outputs": [],
   "source": [
    "from torch import nn"
   ]
  },
  {
   "cell_type": "code",
   "execution_count": 38,
   "metadata": {},
   "outputs": [],
   "source": [
    "class Network(nn.Module):\n",
    "    def __init__(self):\n",
    "        super().__init__()\n",
    "        \n",
    "        # Inputs to hidden layer linear transformation\n",
    "        self.hidden = nn.Linear(784, 256)\n",
    "        # Output layer, 10 units - one for each digit\n",
    "        self.output = nn.Linear(256, 10)\n",
    "        \n",
    "        # Define sigmoid activation and softmax output \n",
    "        self.sigmoid = nn.Sigmoid()\n",
    "        self.softmax = nn.Softmax(dim=1)\n",
    "        \n",
    "    def forward(self, x):\n",
    "        # Pass the input tensor through each of our operations\n",
    "        x = self.hidden(x)\n",
    "        x = self.sigmoid(x)\n",
    "        x = self.output(x)\n",
    "        x = self.softmax(x)\n",
    "        \n",
    "        return x"
   ]
  },
  {
   "cell_type": "markdown",
   "metadata": {},
   "source": [
    "Let's go through this bit by bit.\n",
    "\n",
    "```python\n",
    "class Network(nn.Module):\n",
    "```\n",
    "\n",
    "Here we're inheriting from `nn.Module`. Combined with `super().__init__()` this creates a class that tracks the architecture and provides a lot of useful methods and attributes. It is mandatory to inherit from `nn.Module` when you're creating a class for your network. The name of the class itself can be anything.\n",
    "\n",
    "```python\n",
    "self.hidden = nn.Linear(784, 256)\n",
    "```\n",
    "\n",
    "This line creates a module for a linear transformation, $x\\mathbf{W} + b$, with 784 inputs and 256 outputs and assigns it to `self.hidden`. The module automatically creates the weight and bias tensors which we'll use in the `forward` method. You can access the weight and bias tensors once the network (`net`) is created with `net.hidden.weight` and `net.hidden.bias`.\n",
    "\n",
    "```python\n",
    "self.output = nn.Linear(256, 10)\n",
    "```\n",
    "\n",
    "Similarly, this creates another linear transformation with 256 inputs and 10 outputs.\n",
    "\n",
    "```python\n",
    "self.sigmoid = nn.Sigmoid()\n",
    "self.softmax = nn.Softmax(dim=1)\n",
    "```\n",
    "\n",
    "Here I defined operations for the sigmoid activation and softmax output. Setting `dim=1` in `nn.Softmax(dim=1)` calculates softmax across the columns.\n",
    "\n",
    "```python\n",
    "def forward(self, x):\n",
    "```\n",
    "\n",
    "PyTorch networks created with `nn.Module` must have a `forward` method defined. It takes in a tensor `x` and passes it through the operations you defined in the `__init__` method.\n",
    "\n",
    "```python\n",
    "x = self.hidden(x)\n",
    "x = self.sigmoid(x)\n",
    "x = self.output(x)\n",
    "x = self.softmax(x)\n",
    "```\n",
    "\n",
    "Here the input tensor `x` is passed through each operation and reassigned to `x`. We can see that the input tensor goes through the hidden layer, then a sigmoid function, then the output layer, and finally the softmax function. It doesn't matter what you name the variables here, as long as the inputs and outputs of the operations match the network architecture you want to build. The order in which you define things in the `__init__` method doesn't matter, but you'll need to sequence the operations correctly in the `forward` method.\n",
    "\n",
    "Now we can create a `Network` object."
   ]
  },
  {
   "cell_type": "code",
   "execution_count": 39,
   "metadata": {},
   "outputs": [
    {
     "data": {
      "text/plain": [
       "Network(\n",
       "  (hidden): Linear(in_features=784, out_features=256, bias=True)\n",
       "  (output): Linear(in_features=256, out_features=10, bias=True)\n",
       "  (sigmoid): Sigmoid()\n",
       "  (softmax): Softmax(dim=1)\n",
       ")"
      ]
     },
     "execution_count": 39,
     "metadata": {},
     "output_type": "execute_result"
    }
   ],
   "source": [
    "# Create the network and look at it's text representation\n",
    "model = Network()\n",
    "model"
   ]
  },
  {
   "cell_type": "markdown",
   "metadata": {},
   "source": [
    "You can define the network somewhat more concisely and clearly using the `torch.nn.functional` module. This is the most common way you'll see networks defined as many operations are simple element-wise functions. We normally import this module as `F`, `import torch.nn.functional as F`."
   ]
  },
  {
   "cell_type": "code",
   "execution_count": 40,
   "metadata": {},
   "outputs": [],
   "source": [
    "import torch.nn.functional as F\n",
    "\n",
    "class Network(nn.Module):\n",
    "    def __init__(self):\n",
    "        super().__init__()\n",
    "        # Inputs to hidden layer linear transformation\n",
    "        self.hidden = nn.Linear(784, 256)\n",
    "        # Output layer, 10 units - one for each digit\n",
    "        self.output = nn.Linear(256, 10)\n",
    "        \n",
    "    def forward(self, x):\n",
    "        # Hidden layer with sigmoid activation\n",
    "        x = F.sigmoid(self.hidden(x))\n",
    "        # Output layer with softmax activation\n",
    "        x = F.softmax(self.output(x), dim=1)\n",
    "        \n",
    "        return x"
   ]
  },
  {
   "cell_type": "markdown",
   "metadata": {},
   "source": [
    "### Activation functions\n",
    "\n",
    "So far we've only been looking at the sigmoid activation function, but in general any function can be used as an activation function. The only requirement is that for a network to approximate a non-linear function, the activation functions must be non-linear. Here are a few more examples of common activation functions: Tanh (hyperbolic tangent), and ReLU (rectified linear unit).\n",
    "\n",
    "<img src=\"assets/activation.png\" width=700px>\n",
    "\n",
    "In practice, the ReLU function is used almost exclusively as the activation function for hidden layers."
   ]
  },
  {
   "cell_type": "markdown",
   "metadata": {},
   "source": [
    "### Your Turn to Build a Network\n",
    "\n",
    "<img src=\"assets/mlp_mnist.png\" width=600px>\n",
    "\n",
    "> **Exercise:** Create a network with 784 input units, a hidden layer with 128 units and a ReLU activation, then a hidden layer with 64 units and a ReLU activation, and finally an output layer with a softmax activation as shown above. You can use a ReLU activation with the `nn.ReLU` module or `F.relu` function.\n",
    "\n",
    "It's good practice to name your layers by their type of network, for instance 'fc' to represent a fully-connected layer. As you code your solution, use `fc1`, `fc2`, and `fc3` as your layer names."
   ]
  },
  {
   "cell_type": "code",
   "execution_count": 41,
   "metadata": {},
   "outputs": [],
   "source": [
    "## Your solution here\n",
    "import torch.nn.functional as F\n",
    "\n",
    "class Network(nn.Module):\n",
    "    def __init__(self):\n",
    "        super().__init__()\n",
    "        # Inputs to hidden layer fc1 linear transformation\n",
    "        self.fc1 = nn.Linear(784, 128)\n",
    "        # Hidden layer fc1 to hidden layer fc2 linear transformation\n",
    "        self.fc2 = nn.Linear(128, 64)\n",
    "        # Output layer, 10 units - one for each digit\n",
    "        self.output = nn.Linear(64, 10)\n",
    "        \n",
    "    def forward(self, x):\n",
    "        # Hidden layer with sigmoid activation\n",
    "        x = F.relu(self.fc1(x))\n",
    "        # Hidden layer with sigmoid activation\n",
    "        x = F.relu(self.fc2(x))\n",
    "        # Output layer with softmax activation\n",
    "        x = F.softmax(self.output(x), dim=1)\n",
    "        \n",
    "        return x"
   ]
  },
  {
   "cell_type": "code",
   "execution_count": 42,
   "metadata": {},
   "outputs": [
    {
     "data": {
      "text/plain": [
       "Network(\n",
       "  (fc1): Linear(in_features=784, out_features=128, bias=True)\n",
       "  (fc2): Linear(in_features=128, out_features=64, bias=True)\n",
       "  (output): Linear(in_features=64, out_features=10, bias=True)\n",
       ")"
      ]
     },
     "execution_count": 42,
     "metadata": {},
     "output_type": "execute_result"
    }
   ],
   "source": [
    "model = Network()\n",
    "model"
   ]
  },
  {
   "cell_type": "markdown",
   "metadata": {},
   "source": [
    "### Initializing weights and biases\n",
    "\n",
    "The weights and such are automatically initialized for you, but it's possible to customize how they are initialized. The weights and biases are tensors attached to the layer you defined, you can get them with `model.fc1.weight` for instance."
   ]
  },
  {
   "cell_type": "code",
   "execution_count": 43,
   "metadata": {},
   "outputs": [
    {
     "name": "stdout",
     "output_type": "stream",
     "text": [
      "Parameter containing:\n",
      "tensor([[-0.0005,  0.0269,  0.0101,  ..., -0.0242,  0.0251,  0.0090],\n",
      "        [-0.0121,  0.0090,  0.0316,  ..., -0.0046,  0.0072, -0.0265],\n",
      "        [-0.0130, -0.0088, -0.0257,  ...,  0.0337,  0.0062,  0.0195],\n",
      "        ...,\n",
      "        [ 0.0225, -0.0143, -0.0319,  ..., -0.0015, -0.0035, -0.0182],\n",
      "        [-0.0034,  0.0008,  0.0099,  ..., -0.0149,  0.0006, -0.0262],\n",
      "        [-0.0034,  0.0148,  0.0111,  ...,  0.0165,  0.0274, -0.0232]],\n",
      "       requires_grad=True)\n",
      "Parameter containing:\n",
      "tensor([ 0.0224,  0.0231,  0.0276, -0.0122, -0.0177,  0.0304,  0.0214,  0.0082,\n",
      "        -0.0214,  0.0162,  0.0144, -0.0348,  0.0125, -0.0021, -0.0278,  0.0100,\n",
      "         0.0320,  0.0258, -0.0295,  0.0041, -0.0232, -0.0067, -0.0340, -0.0112,\n",
      "         0.0254, -0.0139, -0.0337, -0.0276, -0.0215, -0.0018, -0.0009,  0.0187,\n",
      "        -0.0317,  0.0038,  0.0055, -0.0306, -0.0252,  0.0046, -0.0273,  0.0177,\n",
      "         0.0072,  0.0073,  0.0104,  0.0318, -0.0145, -0.0326,  0.0202, -0.0320,\n",
      "         0.0277,  0.0218, -0.0179,  0.0123,  0.0281, -0.0313,  0.0248, -0.0264,\n",
      "         0.0209,  0.0054,  0.0237,  0.0027, -0.0162,  0.0085, -0.0289, -0.0191,\n",
      "         0.0069,  0.0088,  0.0111,  0.0210, -0.0085, -0.0017,  0.0063, -0.0018,\n",
      "         0.0320,  0.0036,  0.0295,  0.0316, -0.0256, -0.0075,  0.0127,  0.0108,\n",
      "         0.0300, -0.0201,  0.0197,  0.0192,  0.0334,  0.0253, -0.0170, -0.0297,\n",
      "        -0.0094, -0.0302,  0.0067,  0.0194,  0.0017,  0.0102, -0.0322, -0.0090,\n",
      "         0.0275,  0.0320, -0.0213, -0.0240,  0.0120, -0.0327,  0.0271, -0.0321,\n",
      "        -0.0169,  0.0109,  0.0084, -0.0062, -0.0196, -0.0144,  0.0239, -0.0088,\n",
      "         0.0090, -0.0265,  0.0350, -0.0119, -0.0034,  0.0316,  0.0041, -0.0281,\n",
      "        -0.0085, -0.0004,  0.0236,  0.0001, -0.0122, -0.0049, -0.0131,  0.0317],\n",
      "       requires_grad=True)\n"
     ]
    }
   ],
   "source": [
    "print(model.fc1.weight)\n",
    "print(model.fc1.bias)"
   ]
  },
  {
   "cell_type": "markdown",
   "metadata": {},
   "source": [
    "For custom initialization, we want to modify these tensors in place. These are actually autograd *Variables*, so we need to get back the actual tensors with `model.fc1.weight.data`. Once we have the tensors, we can fill them with zeros (for biases) or random normal values."
   ]
  },
  {
   "cell_type": "code",
   "execution_count": 44,
   "metadata": {},
   "outputs": [
    {
     "data": {
      "text/plain": [
       "tensor([0., 0., 0., 0., 0., 0., 0., 0., 0., 0., 0., 0., 0., 0., 0., 0., 0., 0., 0., 0., 0., 0., 0., 0.,\n",
       "        0., 0., 0., 0., 0., 0., 0., 0., 0., 0., 0., 0., 0., 0., 0., 0., 0., 0., 0., 0., 0., 0., 0., 0.,\n",
       "        0., 0., 0., 0., 0., 0., 0., 0., 0., 0., 0., 0., 0., 0., 0., 0., 0., 0., 0., 0., 0., 0., 0., 0.,\n",
       "        0., 0., 0., 0., 0., 0., 0., 0., 0., 0., 0., 0., 0., 0., 0., 0., 0., 0., 0., 0., 0., 0., 0., 0.,\n",
       "        0., 0., 0., 0., 0., 0., 0., 0., 0., 0., 0., 0., 0., 0., 0., 0., 0., 0., 0., 0., 0., 0., 0., 0.,\n",
       "        0., 0., 0., 0., 0., 0., 0., 0.])"
      ]
     },
     "execution_count": 44,
     "metadata": {},
     "output_type": "execute_result"
    }
   ],
   "source": [
    "# Set biases to all zeros\n",
    "model.fc1.bias.data.fill_(0)"
   ]
  },
  {
   "cell_type": "code",
   "execution_count": 45,
   "metadata": {},
   "outputs": [
    {
     "data": {
      "text/plain": [
       "tensor([[ 9.0206e-03, -1.4346e-04, -3.9543e-03,  ...,  1.2620e-04,\n",
       "          2.1233e-05, -1.6754e-04],\n",
       "        [ 2.0784e-03, -1.3255e-03,  6.3740e-03,  ..., -3.0316e-03,\n",
       "          1.2768e-02, -2.9849e-03],\n",
       "        [-6.8761e-03, -1.1946e-02,  5.5561e-03,  ..., -9.4723e-03,\n",
       "          9.1839e-03,  6.4721e-04],\n",
       "        ...,\n",
       "        [-4.0564e-03,  1.3959e-02,  8.8677e-03,  ...,  5.6542e-03,\n",
       "         -8.3459e-03, -4.0853e-03],\n",
       "        [-4.5382e-03,  8.2377e-04, -4.7571e-05,  ...,  5.7024e-03,\n",
       "          2.7178e-03,  1.4354e-02],\n",
       "        [-6.7796e-03,  8.5625e-03, -2.6748e-03,  ..., -5.7764e-03,\n",
       "         -4.5523e-03, -6.8337e-03]])"
      ]
     },
     "execution_count": 45,
     "metadata": {},
     "output_type": "execute_result"
    }
   ],
   "source": [
    "# sample from random normal with standard dev = 0.01\n",
    "model.fc1.weight.data.normal_(std=0.01)"
   ]
  },
  {
   "cell_type": "markdown",
   "metadata": {},
   "source": [
    "### Forward pass\n",
    "\n",
    "Now that we have a network, let's see what happens when we pass in an image."
   ]
  },
  {
   "cell_type": "code",
   "execution_count": 46,
   "metadata": {},
   "outputs": [
    {
     "data": {
      "image/png": "[encoded data removed]",
      "text/plain": [
       "<Figure size 432x648 with 2 Axes>"
      ]
     },
     "metadata": {
      "image/png": {
       "height": 235,
       "width": 424
      },
      "needs_background": "light"
     },
     "output_type": "display_data"
    }
   ],
   "source": [
    "# Grab some data \n",
    "dataiter = iter(trainloader)\n",
    "images, labels = dataiter.next()\n",
    "\n",
    "# Resize images into a 1D vector, new shape is (batch size, color channels, image pixels) \n",
    "images.resize_(64, 1, 784)\n",
    "# or images.resize_(images.shape[0], 1, 784) to automatically get batch size\n",
    "\n",
    "# Forward pass through the network\n",
    "img_idx = 0\n",
    "ps = model.forward(images[img_idx,:])\n",
    "\n",
    "img = images[img_idx]\n",
    "helper.view_classify(img.view(1, 28, 28), ps)"
   ]
  },
  {
   "cell_type": "markdown",
   "metadata": {},
   "source": [
    "As you can see above, our network has basically no idea what this digit is. It's because we haven't trained it yet, all the weights are random!\n",
    "\n",
    "### Using `nn.Sequential`\n",
    "\n",
    "PyTorch provides a convenient way to build networks like this where a tensor is passed sequentially through operations, `nn.Sequential` ([documentation](https://pytorch.org/docs/master/nn.html#torch.nn.Sequential)). Using this to build the equivalent network:"
   ]
  },
  {
   "cell_type": "code",
   "execution_count": 47,
   "metadata": {},
   "outputs": [
    {
     "name": "stdout",
     "output_type": "stream",
     "text": [
      "Sequential(\n",
      "  (0): Linear(in_features=784, out_features=128, bias=True)\n",
      "  (1): ReLU()\n",
      "  (2): Linear(in_features=128, out_features=64, bias=True)\n",
      "  (3): ReLU()\n",
      "  (4): Linear(in_features=64, out_features=10, bias=True)\n",
      "  (5): Softmax(dim=1)\n",
      ")\n"
     ]
    },
    {
     "data": {
      "image/png": "[encoded data removed]",
      "text/plain": [
       "<Figure size 432x648 with 2 Axes>"
      ]
     },
     "metadata": {
      "image/png": {
       "height": 235,
       "width": 424
      },
      "needs_background": "light"
     },
     "output_type": "display_data"
    }
   ],
   "source": [
    "# Hyperparameters for our network\n",
    "input_size = 784\n",
    "hidden_sizes = [128, 64]\n",
    "output_size = 10\n",
    "\n",
    "# Build a feed-forward network\n",
    "model = nn.Sequential(nn.Linear(input_size, hidden_sizes[0]),\n",
    "                      nn.ReLU(),\n",
    "                      nn.Linear(hidden_sizes[0], hidden_sizes[1]),\n",
    "                      nn.ReLU(),\n",
    "                      nn.Linear(hidden_sizes[1], output_size),\n",
    "                      nn.Softmax(dim=1))\n",
    "print(model)\n",
    "\n",
    "# Forward pass through the network and display output\n",
    "images, labels = next(iter(trainloader))\n",
    "images.resize_(images.shape[0], 1, 784)\n",
    "ps = model.forward(images[0,:])\n",
    "helper.view_classify(images[0].view(1, 28, 28), ps)"
   ]
  },
  {
   "cell_type": "markdown",
   "metadata": {},
   "source": [
    "Here our model is the same as before: 784 input units, a hidden layer with 128 units, ReLU activation, 64 unit hidden layer, another ReLU, then the output layer with 10 units, and the softmax output.\n",
    "\n",
    "The operations are available by passing in the appropriate index. For example, if you want to get first Linear operation and look at the weights, you'd use `model[0]`."
   ]
  },
  {
   "cell_type": "code",
   "execution_count": 48,
   "metadata": {},
   "outputs": [
    {
     "name": "stdout",
     "output_type": "stream",
     "text": [
      "Linear(in_features=784, out_features=128, bias=True)\n"
     ]
    },
    {
     "data": {
      "text/plain": [
       "Parameter containing:\n",
       "tensor([[-0.0079,  0.0244,  0.0196,  ..., -0.0297,  0.0189,  0.0048],\n",
       "        [-0.0025,  0.0240, -0.0140,  ...,  0.0022, -0.0050, -0.0108],\n",
       "        [-0.0136, -0.0199,  0.0010,  ...,  0.0288,  0.0194, -0.0074],\n",
       "        ...,\n",
       "        [ 0.0031,  0.0128, -0.0316,  ...,  0.0117,  0.0290, -0.0137],\n",
       "        [-0.0182,  0.0338,  0.0063,  ...,  0.0196,  0.0067,  0.0306],\n",
       "        [ 0.0022, -0.0212, -0.0164,  ..., -0.0063,  0.0047,  0.0336]],\n",
       "       requires_grad=True)"
      ]
     },
     "execution_count": 48,
     "metadata": {},
     "output_type": "execute_result"
    }
   ],
   "source": [
    "print(model[0])\n",
    "model[0].weight"
   ]
  },
  {
   "cell_type": "markdown",
   "metadata": {},
   "source": [
    "You can also pass in an `OrderedDict` to name the individual layers and operations, instead of using incremental integers. Note that dictionary keys must be unique, so _each operation must have a different name_."
   ]
  },
  {
   "cell_type": "code",
   "execution_count": 49,
   "metadata": {},
   "outputs": [
    {
     "data": {
      "text/plain": [
       "Sequential(\n",
       "  (fc1): Linear(in_features=784, out_features=128, bias=True)\n",
       "  (relu1): ReLU()\n",
       "  (fc2): Linear(in_features=128, out_features=64, bias=True)\n",
       "  (relu2): ReLU()\n",
       "  (output): Linear(in_features=64, out_features=10, bias=True)\n",
       "  (softmax): Softmax(dim=1)\n",
       ")"
      ]
     },
     "execution_count": 49,
     "metadata": {},
     "output_type": "execute_result"
    }
   ],
   "source": [
    "from collections import OrderedDict\n",
    "model = nn.Sequential(OrderedDict([\n",
    "                      ('fc1', nn.Linear(input_size, hidden_sizes[0])),\n",
    "                      ('relu1', nn.ReLU()),\n",
    "                      ('fc2', nn.Linear(hidden_sizes[0], hidden_sizes[1])),\n",
    "                      ('relu2', nn.ReLU()),\n",
    "                      ('output', nn.Linear(hidden_sizes[1], output_size)),\n",
    "                      ('softmax', nn.Softmax(dim=1))]))\n",
    "model"
   ]
  },
  {
   "cell_type": "markdown",
   "metadata": {},
   "source": [
    "Now you can access layers either by integer or the name"
   ]
  },
  {
   "cell_type": "code",
   "execution_count": 50,
   "metadata": {},
   "outputs": [
    {
     "name": "stdout",
     "output_type": "stream",
     "text": [
      "Linear(in_features=784, out_features=128, bias=True)\n",
      "Linear(in_features=784, out_features=128, bias=True)\n"
     ]
    }
   ],
   "source": [
    "print(model[0])\n",
    "print(model.fc1)"
   ]
  },
  {
   "cell_type": "code",
   "execution_count": 52,
   "metadata": {},
   "outputs": [
    {
     "name": "stdout",
     "output_type": "stream",
     "text": [
      "Linear(in_features=128, out_features=64, bias=True)\n",
      "Linear(in_features=128, out_features=64, bias=True)\n"
     ]
    }
   ],
   "source": [
    "print(model[2])\n",
    "print(model.fc2)"
   ]
  },
  {
   "cell_type": "markdown",
   "metadata": {},
   "source": [
    "In the next notebook, we'll see how we can train a neural network to accuractly predict the numbers appearing in the MNIST images."
   ]
  }
 ],
 "metadata": {
  "kernelspec": {
   "display_name": "Python 3",
   "language": "python",
   "name": "python3"
  },
  "language_info": {
   "codemirror_mode": {
    "name": "ipython",
    "version": 3
   },
   "file_extension": ".py",
   "mimetype": "text/x-python",
   "name": "python",
   "nbconvert_exporter": "python",
   "pygments_lexer": "ipython3",
   "version": "3.8.5"
  }
 },
 "nbformat": 4,
 "nbformat_minor": 4
}
